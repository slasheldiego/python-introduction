{
  "nbformat": 4,
  "nbformat_minor": 0,
  "metadata": {
    "colab": {
      "name": "Taller_Python_Sesion1.ipynb",
      "provenance": [],
      "authorship_tag": "ABX9TyNNGoNUgduUeC4IxhH5s5yE",
      "include_colab_link": true
    },
    "kernelspec": {
      "name": "python3",
      "display_name": "Python 3"
    },
    "language_info": {
      "name": "python"
    }
  },
  "cells": [
    {
      "cell_type": "markdown",
      "metadata": {
        "id": "view-in-github",
        "colab_type": "text"
      },
      "source": [
        "<a href=\"https://colab.research.google.com/github/slasheldiego/python-introduction/blob/main/Taller_Python_Sesion1.ipynb\" target=\"_parent\"><img src=\"https://colab.research.google.com/assets/colab-badge.svg\" alt=\"Open In Colab\"/></a>"
      ]
    },
    {
      "cell_type": "markdown",
      "metadata": {
        "id": "GO3hHJ19k3Z1"
      },
      "source": [
        "# Programación para todos con Python"
      ]
    },
    {
      "cell_type": "markdown",
      "metadata": {
        "id": "1iIJugHhk9yQ"
      },
      "source": [
        "## Conociendo el **Notebook** de Colab:\n",
        "Es un entorno de desarrollo para programar al estilo de un libro de notas. Este diseño nos permite programar de manera interactiva e incluso ir narrando nuestros desarrollos.\n",
        "\n",
        "### Celda: \n",
        "Una celda es un campo de texto multilinea que nos permitirá interactuar de manera dinámica con el lenguaje de programación, en este caso, Python. \n",
        "\n",
        "Generalmente, cualquier tarea que definamos podrá ser ejecutada a través de **CTRL + ENTER** o por el botón > a la izquierda"
      ]
    },
    {
      "cell_type": "code",
      "metadata": {
        "colab": {
          "base_uri": "https://localhost:8080/"
        },
        "id": "ihNCi7olk1YQ",
        "outputId": "daf7076f-a49e-4320-c903-4603bfb91d01"
      },
      "source": [
        "3"
      ],
      "execution_count": 1,
      "outputs": [
        {
          "output_type": "execute_result",
          "data": {
            "text/plain": [
              "3"
            ]
          },
          "metadata": {
            "tags": []
          },
          "execution_count": 1
        }
      ]
    },
    {
      "cell_type": "code",
      "metadata": {
        "colab": {
          "base_uri": "https://localhost:8080/"
        },
        "id": "ym9v0s9zmy-B",
        "outputId": "b8906354-158f-473b-bbfb-0b0ab0917c25"
      },
      "source": [
        "3 + 4 * 8 / 2 - 5 * 2"
      ],
      "execution_count": 3,
      "outputs": [
        {
          "output_type": "execute_result",
          "data": {
            "text/plain": [
              "9.0"
            ]
          },
          "metadata": {
            "tags": []
          },
          "execution_count": 3
        }
      ]
    },
    {
      "cell_type": "markdown",
      "metadata": {
        "id": "S49GiXFxnlf4"
      },
      "source": [
        "## Variables:\n",
        "Un lugar donde puedo guardar un valor."
      ]
    },
    {
      "cell_type": "code",
      "metadata": {
        "id": "kjRax6HnnGDo"
      },
      "source": [
        "x = 3"
      ],
      "execution_count": 4,
      "outputs": []
    },
    {
      "cell_type": "code",
      "metadata": {
        "colab": {
          "base_uri": "https://localhost:8080/"
        },
        "id": "4ZWNxVa8nvjC",
        "outputId": "c852aee8-0ee2-43ec-f2f4-fe14a5a2d325"
      },
      "source": [
        "x"
      ],
      "execution_count": 5,
      "outputs": [
        {
          "output_type": "execute_result",
          "data": {
            "text/plain": [
              "3"
            ]
          },
          "metadata": {
            "tags": []
          },
          "execution_count": 5
        }
      ]
    },
    {
      "cell_type": "code",
      "metadata": {
        "colab": {
          "base_uri": "https://localhost:8080/"
        },
        "id": "o8XADhgOnxPk",
        "outputId": "485fed2f-e9ee-4b48-bf0d-8c24427457c1"
      },
      "source": [
        "x * 10 - 5"
      ],
      "execution_count": 6,
      "outputs": [
        {
          "output_type": "execute_result",
          "data": {
            "text/plain": [
              "25"
            ]
          },
          "metadata": {
            "tags": []
          },
          "execution_count": 6
        }
      ]
    },
    {
      "cell_type": "code",
      "metadata": {
        "id": "cO78a1vDn5GQ"
      },
      "source": [
        "cadena = \"Hola mundo!\""
      ],
      "execution_count": 7,
      "outputs": []
    },
    {
      "cell_type": "code",
      "metadata": {
        "colab": {
          "base_uri": "https://localhost:8080/",
          "height": 35
        },
        "id": "b6MhjFU4oCPW",
        "outputId": "9f3918cb-e4a4-4732-8dea-bcc5a2105034"
      },
      "source": [
        "cadena"
      ],
      "execution_count": 8,
      "outputs": [
        {
          "output_type": "execute_result",
          "data": {
            "application/vnd.google.colaboratory.intrinsic+json": {
              "type": "string"
            },
            "text/plain": [
              "'Hola mundo!'"
            ]
          },
          "metadata": {
            "tags": []
          },
          "execution_count": 8
        }
      ]
    },
    {
      "cell_type": "code",
      "metadata": {
        "colab": {
          "base_uri": "https://localhost:8080/"
        },
        "id": "44iupqxMoELM",
        "outputId": "9c51da52-e880-4177-d09e-9c9a906418f9"
      },
      "source": [
        "type(x)"
      ],
      "execution_count": 10,
      "outputs": [
        {
          "output_type": "execute_result",
          "data": {
            "text/plain": [
              "int"
            ]
          },
          "metadata": {
            "tags": []
          },
          "execution_count": 10
        }
      ]
    },
    {
      "cell_type": "code",
      "metadata": {
        "colab": {
          "base_uri": "https://localhost:8080/"
        },
        "id": "aloOqwI-oIj0",
        "outputId": "f207398e-9d9e-4e9b-fbc9-6db10f15a476"
      },
      "source": [
        "type(cadena)"
      ],
      "execution_count": 11,
      "outputs": [
        {
          "output_type": "execute_result",
          "data": {
            "text/plain": [
              "str"
            ]
          },
          "metadata": {
            "tags": []
          },
          "execution_count": 11
        }
      ]
    },
    {
      "cell_type": "code",
      "metadata": {
        "id": "JQ1FoVGLoLpn"
      },
      "source": [
        "y = 12.8"
      ],
      "execution_count": 12,
      "outputs": []
    },
    {
      "cell_type": "code",
      "metadata": {
        "colab": {
          "base_uri": "https://localhost:8080/"
        },
        "id": "cuMFzJStoOaE",
        "outputId": "24b30da0-5bb8-4804-8374-e24d43cdd4aa"
      },
      "source": [
        "type(y)"
      ],
      "execution_count": 13,
      "outputs": [
        {
          "output_type": "execute_result",
          "data": {
            "text/plain": [
              "float"
            ]
          },
          "metadata": {
            "tags": []
          },
          "execution_count": 13
        }
      ]
    },
    {
      "cell_type": "code",
      "metadata": {
        "id": "Z1_IDKnvoQkN"
      },
      "source": [
        "z = x * y"
      ],
      "execution_count": 15,
      "outputs": []
    },
    {
      "cell_type": "code",
      "metadata": {
        "colab": {
          "base_uri": "https://localhost:8080/"
        },
        "id": "QXUj85QZoT4N",
        "outputId": "387e700d-5e6b-47a9-c8cf-22608d006958"
      },
      "source": [
        "z"
      ],
      "execution_count": 16,
      "outputs": [
        {
          "output_type": "execute_result",
          "data": {
            "text/plain": [
              "38.400000000000006"
            ]
          },
          "metadata": {
            "tags": []
          },
          "execution_count": 16
        }
      ]
    },
    {
      "cell_type": "code",
      "metadata": {
        "colab": {
          "base_uri": "https://localhost:8080/"
        },
        "id": "ss4yEGazoVG_",
        "outputId": "cbbfafd3-38ef-4f98-e431-e758f90985ab"
      },
      "source": [
        "type(z)"
      ],
      "execution_count": 17,
      "outputs": [
        {
          "output_type": "execute_result",
          "data": {
            "text/plain": [
              "float"
            ]
          },
          "metadata": {
            "tags": []
          },
          "execution_count": 17
        }
      ]
    },
    {
      "cell_type": "markdown",
      "metadata": {
        "id": "ysmotB71oqzG"
      },
      "source": [
        "### Ejemplo 1: \n",
        "Voy al supermercado y compré 5 manzanas a 0.5 centimos cada una. ¿Cuánto pagué por todas ellas?"
      ]
    },
    {
      "cell_type": "code",
      "metadata": {
        "colab": {
          "base_uri": "https://localhost:8080/"
        },
        "id": "USUlpUHlop_h",
        "outputId": "2bd475bb-73a8-48ae-b0ba-8f8f85dd4f3c"
      },
      "source": [
        "manzanas = 5\n",
        "precio = 0.5\n",
        "precio_total = manzanas * precio\n",
        "print(\"El precio total es: \", precio_total, \" soles\")"
      ],
      "execution_count": 19,
      "outputs": [
        {
          "output_type": "stream",
          "text": [
            "El precio total es:  2.5  soles\n"
          ],
          "name": "stdout"
        }
      ]
    },
    {
      "cell_type": "markdown",
      "metadata": {
        "id": "D4fWsqnUppdD"
      },
      "source": [
        "## Operador de referencia \"=\""
      ]
    },
    {
      "cell_type": "code",
      "metadata": {
        "colab": {
          "base_uri": "https://localhost:8080/"
        },
        "id": "4UySy6y5pf0b",
        "outputId": "df7239c1-61c9-48f5-c659-fe3e5945468d"
      },
      "source": [
        "a = 1\n",
        "print(a)"
      ],
      "execution_count": 21,
      "outputs": [
        {
          "output_type": "stream",
          "text": [
            "1\n"
          ],
          "name": "stdout"
        }
      ]
    },
    {
      "cell_type": "code",
      "metadata": {
        "id": "r0FelFwAp770"
      },
      "source": [
        "a = a + 1"
      ],
      "execution_count": 22,
      "outputs": []
    },
    {
      "cell_type": "markdown",
      "metadata": {
        "id": "lXIhyYc_qCyl"
      },
      "source": [
        "Esta referencia hace que el nuevo valor de **a** ahora tome el valor antiguo de **a** más 1."
      ]
    },
    {
      "cell_type": "code",
      "metadata": {
        "colab": {
          "base_uri": "https://localhost:8080/"
        },
        "id": "am69_JjcqNK-",
        "outputId": "77b491c6-45af-4f36-8af8-7d77a56ea2ff"
      },
      "source": [
        "print(a)"
      ],
      "execution_count": 23,
      "outputs": [
        {
          "output_type": "stream",
          "text": [
            "2\n"
          ],
          "name": "stdout"
        }
      ]
    },
    {
      "cell_type": "markdown",
      "metadata": {
        "id": "peY9_g2MqQit"
      },
      "source": [
        "Esto quiere decir que no debemos tomar al símbolo **=** como una igualdad matemática como la que estamos acostumbrado, es más un referencia de valor."
      ]
    },
    {
      "cell_type": "markdown",
      "metadata": {
        "id": "_xKEF9nGr0h5"
      },
      "source": [
        "## Operadores numéricos"
      ]
    },
    {
      "cell_type": "code",
      "metadata": {
        "colab": {
          "base_uri": "https://localhost:8080/"
        },
        "id": "TqkQHhsTqgCD",
        "outputId": "8170dcd6-6fce-4672-8dd2-2cfab8d4ac56"
      },
      "source": [
        "x = 9 + 2\n",
        "print(\"Operador suma: \",x)"
      ],
      "execution_count": 30,
      "outputs": [
        {
          "output_type": "stream",
          "text": [
            "Operador suma:  11\n"
          ],
          "name": "stdout"
        }
      ]
    },
    {
      "cell_type": "code",
      "metadata": {
        "colab": {
          "base_uri": "https://localhost:8080/"
        },
        "id": "Zr7UZZ0mr-I4",
        "outputId": "fd7c72b2-139a-41ce-efca-f8bf96599c27"
      },
      "source": [
        "x = 9 - 2\n",
        "print(\"Operador resta: \", x)"
      ],
      "execution_count": 31,
      "outputs": [
        {
          "output_type": "stream",
          "text": [
            "Operador resta:  7\n"
          ],
          "name": "stdout"
        }
      ]
    },
    {
      "cell_type": "code",
      "metadata": {
        "colab": {
          "base_uri": "https://localhost:8080/"
        },
        "id": "1hx1qHiysCrt",
        "outputId": "95b606ee-64db-431d-b9c6-e07e52681c89"
      },
      "source": [
        "x = 9 * 2\n",
        "print(\"Operador multiplicación: \", x)"
      ],
      "execution_count": 32,
      "outputs": [
        {
          "output_type": "stream",
          "text": [
            "Operador multiplicación:  18\n"
          ],
          "name": "stdout"
        }
      ]
    },
    {
      "cell_type": "code",
      "metadata": {
        "colab": {
          "base_uri": "https://localhost:8080/"
        },
        "id": "ln6EZMMQsLe4",
        "outputId": "ff0f31bb-620d-4ef9-d4b4-a7b942fd70a0"
      },
      "source": [
        "x = 9 / 2\n",
        "print(\"Operador división: \", x)"
      ],
      "execution_count": 33,
      "outputs": [
        {
          "output_type": "stream",
          "text": [
            "Operador división:  4.5\n"
          ],
          "name": "stdout"
        }
      ]
    },
    {
      "cell_type": "code",
      "metadata": {
        "colab": {
          "base_uri": "https://localhost:8080/"
        },
        "id": "HnJR7seLsuxr",
        "outputId": "6fb668df-1f4b-4323-a9b2-ccb32bc02e3e"
      },
      "source": [
        "x = 9 ** 2\n",
        "print(\"Operador potencia: \", x)"
      ],
      "execution_count": 35,
      "outputs": [
        {
          "output_type": "stream",
          "text": [
            "Operador potencia:  81\n"
          ],
          "name": "stdout"
        }
      ]
    },
    {
      "cell_type": "code",
      "metadata": {
        "colab": {
          "base_uri": "https://localhost:8080/"
        },
        "id": "T7cKhIfvsUGF",
        "outputId": "7f1d7eb4-955e-40ba-d39b-10a500ea9ff8"
      },
      "source": [
        "x = 9 % 2\n",
        "print(\"Operador módulo/residuo: \", x)"
      ],
      "execution_count": 34,
      "outputs": [
        {
          "output_type": "stream",
          "text": [
            "Operador módulo/residuo:  1\n"
          ],
          "name": "stdout"
        }
      ]
    },
    {
      "cell_type": "markdown",
      "metadata": {
        "id": "GShnGi68tNTT"
      },
      "source": [
        "### ¿Cuál es el orden en que se realización las operaciones?"
      ]
    },
    {
      "cell_type": "code",
      "metadata": {
        "colab": {
          "base_uri": "https://localhost:8080/"
        },
        "id": "pyD14_agtEZt",
        "outputId": "945afd27-80db-4008-f27e-80a9b4919f19"
      },
      "source": [
        "x = 1 + 2 ** 3 / 4 * 5\n",
        "print(x)"
      ],
      "execution_count": 37,
      "outputs": [
        {
          "output_type": "stream",
          "text": [
            "11.0\n"
          ],
          "name": "stdout"
        }
      ]
    },
    {
      "cell_type": "markdown",
      "metadata": {
        "id": "euXZndFUty2T"
      },
      "source": [
        "Siempre debemos leer de izquierda a derecha y respectar las siguiente prioridad:\n",
        "1. Parentecis\n",
        "2. Potencias\n",
        "3. Multiplicación, división, módulo\n",
        "4. Adición, resta"
      ]
    },
    {
      "cell_type": "markdown",
      "metadata": {
        "id": "TPscAqZyuirU"
      },
      "source": [
        "### ** Detengamonos un momento para ver una herramienta útil :) !!!**"
      ]
    },
    {
      "cell_type": "code",
      "metadata": {
        "colab": {
          "base_uri": "https://localhost:8080/"
        },
        "id": "zBkHqRbltte1",
        "outputId": "59f0b110-72d5-44a6-a741-9d371ae784ab"
      },
      "source": [
        "print(\"Bienvenido Diego!\")"
      ],
      "execution_count": 38,
      "outputs": [
        {
          "output_type": "stream",
          "text": [
            "Bienvenido Diego!\n"
          ],
          "name": "stdout"
        }
      ]
    },
    {
      "cell_type": "code",
      "metadata": {
        "colab": {
          "base_uri": "https://localhost:8080/"
        },
        "id": "qbC-jCKWu3y7",
        "outputId": "ec2e8846-f346-4fb6-b9a8-aaf9dbc86208"
      },
      "source": [
        "nombre = input(\"Ingrese su nombre: \")\n",
        "print(\"Bienvenido\", nombre)"
      ],
      "execution_count": 39,
      "outputs": [
        {
          "output_type": "stream",
          "text": [
            "Ingrese su nombre: Diego\n",
            "Bienvenido Diego\n"
          ],
          "name": "stdout"
        }
      ]
    },
    {
      "cell_type": "markdown",
      "metadata": {
        "id": "CZcCDGuXwcx0"
      },
      "source": [
        "## Operadores de comparación"
      ]
    },
    {
      "cell_type": "code",
      "metadata": {
        "id": "ck_7ZJMGwa4e"
      },
      "source": [
        "x = 3\n",
        "y = 4"
      ],
      "execution_count": 40,
      "outputs": []
    },
    {
      "cell_type": "code",
      "metadata": {
        "colab": {
          "base_uri": "https://localhost:8080/"
        },
        "id": "PWvTVUclwuSr",
        "outputId": "5c24d21b-4871-43c1-8c01-b1048dce3b88"
      },
      "source": [
        "print(\" ¿ x es igual a y ? \", x == y)"
      ],
      "execution_count": 44,
      "outputs": [
        {
          "output_type": "stream",
          "text": [
            " ¿ x es igual a y ?  False\n"
          ],
          "name": "stdout"
        }
      ]
    },
    {
      "cell_type": "code",
      "metadata": {
        "colab": {
          "base_uri": "https://localhost:8080/"
        },
        "id": "vf9KGggRw4ZG",
        "outputId": "988ff81f-0845-4c0b-ad5f-b24fb214031e"
      },
      "source": [
        "print(\" ¿ x es diferente de y ? \", x != y)"
      ],
      "execution_count": 45,
      "outputs": [
        {
          "output_type": "stream",
          "text": [
            " ¿ x es diferente de y ?  True\n"
          ],
          "name": "stdout"
        }
      ]
    },
    {
      "cell_type": "code",
      "metadata": {
        "id": "XvO_SOiTxYBj"
      },
      "source": [
        "b = (x == y)"
      ],
      "execution_count": 46,
      "outputs": []
    },
    {
      "cell_type": "code",
      "metadata": {
        "colab": {
          "base_uri": "https://localhost:8080/"
        },
        "id": "VFK5UuxixdV9",
        "outputId": "404a533c-27d3-4e07-eb5f-f6bf976eef0b"
      },
      "source": [
        "b"
      ],
      "execution_count": 47,
      "outputs": [
        {
          "output_type": "execute_result",
          "data": {
            "text/plain": [
              "False"
            ]
          },
          "metadata": {
            "tags": []
          },
          "execution_count": 47
        }
      ]
    },
    {
      "cell_type": "code",
      "metadata": {
        "colab": {
          "base_uri": "https://localhost:8080/"
        },
        "id": "PY5STtuwxe1m",
        "outputId": "fb80ac8c-4f56-46fe-e3ef-447bd331521c"
      },
      "source": [
        "type(b)"
      ],
      "execution_count": 48,
      "outputs": [
        {
          "output_type": "execute_result",
          "data": {
            "text/plain": [
              "bool"
            ]
          },
          "metadata": {
            "tags": []
          },
          "execution_count": 48
        }
      ]
    },
    {
      "cell_type": "markdown",
      "metadata": {
        "id": "Y5TlHtWd2col"
      },
      "source": [
        "## Tarea 1:\n",
        "Desarrolle un programa que tome como entradas la cantidad de personas que ingresan a un cine y el precio de la entrada, y retorne un mensaje **\"Es buena taquilla\"** si es que el valor total de lo recaudado por las entradas es mayor **1000**, de lo contrario se debe retornar el mensaje **\"Es una mala taquilla\"**."
      ]
    },
    {
      "cell_type": "markdown",
      "metadata": {
        "id": "Sog-YK-ExtnG"
      },
      "source": [
        "## Estructuras de control selectivas"
      ]
    },
    {
      "cell_type": "code",
      "metadata": {
        "colab": {
          "base_uri": "https://localhost:8080/"
        },
        "id": "ZDN6mPFXxj-2",
        "outputId": "f125845d-7a00-4bbd-e8cf-378a445f80a6"
      },
      "source": [
        "x = input(\"Ingrese x: \")\n",
        "y = input(\"Ingrese y: \")\n",
        "if x > y:\n",
        "  print(\" x es mayor que y \")\n",
        "else:\n",
        "  print(\" x es menor que y \")"
      ],
      "execution_count": 50,
      "outputs": [
        {
          "output_type": "stream",
          "text": [
            "Ingrese x: -5\n",
            "Ingrese y: 5\n",
            " x es menor que y \n"
          ],
          "name": "stdout"
        }
      ]
    },
    {
      "cell_type": "code",
      "metadata": {
        "colab": {
          "base_uri": "https://localhost:8080/"
        },
        "id": "U1GjvVtOzKuO",
        "outputId": "d72e6b89-d00c-47e6-8378-acb270b7b62c"
      },
      "source": [
        "x = input(\"Ingrese x: \")\n",
        "y = input(\"Ingrese y: \")\n",
        "if x > y:\n",
        "  print(\" x es mayor que y \")\n",
        "elif x < y:\n",
        "  print(\" x es menor que y \")\n",
        "else:\n",
        "  print(\" x es igual a y \")"
      ],
      "execution_count": 54,
      "outputs": [
        {
          "output_type": "stream",
          "text": [
            "Ingrese x: 10\n",
            "Ingrese y: 10\n",
            " x es igual a y \n"
          ],
          "name": "stdout"
        }
      ]
    },
    {
      "cell_type": "markdown",
      "metadata": {
        "id": "VgTP3FLS0Is2"
      },
      "source": [
        "## Estructuras de control repetitivas"
      ]
    },
    {
      "cell_type": "code",
      "metadata": {
        "colab": {
          "base_uri": "https://localhost:8080/"
        },
        "id": "fp5O-td10H4w",
        "outputId": "427153f3-4ccb-44fc-8d5d-e0cbeecd8778"
      },
      "source": [
        "range(10)"
      ],
      "execution_count": 60,
      "outputs": [
        {
          "output_type": "execute_result",
          "data": {
            "text/plain": [
              "range(0, 10)"
            ]
          },
          "metadata": {
            "tags": []
          },
          "execution_count": 60
        }
      ]
    },
    {
      "cell_type": "code",
      "metadata": {
        "colab": {
          "base_uri": "https://localhost:8080/"
        },
        "id": "VQkVcmOL1HkX",
        "outputId": "92c7cec2-b74d-4229-a27a-4188b892d804"
      },
      "source": [
        "for i in range(10):\n",
        "  print(i)"
      ],
      "execution_count": 61,
      "outputs": [
        {
          "output_type": "stream",
          "text": [
            "0\n",
            "1\n",
            "2\n",
            "3\n",
            "4\n",
            "5\n",
            "6\n",
            "7\n",
            "8\n",
            "9\n"
          ],
          "name": "stdout"
        }
      ]
    },
    {
      "cell_type": "code",
      "metadata": {
        "id": "hi03_nWO1SUt"
      },
      "source": [
        "arreglo = [1,2,3,4,5]"
      ],
      "execution_count": 62,
      "outputs": []
    },
    {
      "cell_type": "code",
      "metadata": {
        "colab": {
          "base_uri": "https://localhost:8080/"
        },
        "id": "U2EwceAq1Xn1",
        "outputId": "90a9d3bc-c70c-4e51-d794-ed957d399105"
      },
      "source": [
        "for i in arreglo:\n",
        "  print(i)"
      ],
      "execution_count": 63,
      "outputs": [
        {
          "output_type": "stream",
          "text": [
            "1\n",
            "2\n",
            "3\n",
            "4\n",
            "5\n"
          ],
          "name": "stdout"
        }
      ]
    },
    {
      "cell_type": "code",
      "metadata": {
        "id": "PtaGGsEW1bYy"
      },
      "source": [
        "nombres = [\"Diego\",\"Lionel\",\"Emilia\",\"Eloisa\"]"
      ],
      "execution_count": 64,
      "outputs": []
    },
    {
      "cell_type": "code",
      "metadata": {
        "colab": {
          "base_uri": "https://localhost:8080/"
        },
        "id": "mvEEfA2T1iOR",
        "outputId": "3bda10be-f013-410c-ca9c-ea780062d31a"
      },
      "source": [
        "for nombre in nombres:\n",
        "  print(nombre)"
      ],
      "execution_count": 66,
      "outputs": [
        {
          "output_type": "stream",
          "text": [
            "Diego\n",
            "Lionel\n",
            "Emilia\n",
            "Eloisa\n"
          ],
          "name": "stdout"
        }
      ]
    }
  ]
}